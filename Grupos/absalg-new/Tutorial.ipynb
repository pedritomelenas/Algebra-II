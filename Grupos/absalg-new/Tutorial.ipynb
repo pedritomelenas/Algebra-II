{
 "cells": [
  {
   "cell_type": "markdown",
   "metadata": {},
   "source": [
    "# Tutorial for `Group.py`\n",
    "This folder contains an extension of the [absalg](https://github.com/naftaliharris/Abstract-Algebra) library by [Naftali Harris](http://www.naftaliharris.com).\n",
    "\n",
    "We start by loading the library"
   ]
  },
  {
   "cell_type": "code",
   "execution_count": 1,
   "metadata": {
    "collapsed": false
   },
   "outputs": [
    {
     "name": "stdout",
     "output_type": "stream",
     "text": [
      "Populating the interactive namespace from numpy and matplotlib\n"
     ]
    }
   ],
   "source": [
    "%pylab inline \n",
    "#we will do some drawing at the end...\n",
    "from Group import *"
   ]
  },
  {
   "cell_type": "markdown",
   "metadata": {},
   "source": [
    "## Defining a group\n",
    "Let us define a group from scratch. We need a set and a binary operation."
   ]
  },
  {
   "cell_type": "code",
   "execution_count": 2,
   "metadata": {
    "collapsed": false
   },
   "outputs": [],
   "source": [
    "S=Set(range(5))\n",
    "b_op=Function(S.cartesian(S),S,lambda x: (x[0]+x[1])%5)\n",
    "G=Group(S,b_op)"
   ]
  },
  {
   "cell_type": "markdown",
   "metadata": {},
   "source": [
    "We can, for instance, list the elements in `G`. Observe that this is just a representation of them."
   ]
  },
  {
   "cell_type": "code",
   "execution_count": 3,
   "metadata": {
    "collapsed": false
   },
   "outputs": [
    {
     "data": {
      "text/plain": [
       "[0, 1, 2, 3, 4]"
      ]
     },
     "execution_count": 3,
     "metadata": {},
     "output_type": "execute_result"
    }
   ],
   "source": [
    "list(G)"
   ]
  },
  {
   "cell_type": "markdown",
   "metadata": {},
   "source": [
    "This does not mean that 1 is in `G`."
   ]
  },
  {
   "cell_type": "code",
   "execution_count": 4,
   "metadata": {
    "collapsed": false
   },
   "outputs": [
    {
     "data": {
      "text/plain": [
       "False"
      ]
     },
     "execution_count": 4,
     "metadata": {},
     "output_type": "execute_result"
    }
   ],
   "source": [
    "1 in G"
   ]
  },
  {
   "cell_type": "markdown",
   "metadata": {},
   "source": [
    "In order to see 1 in `G`, we need to create an instance of it as element in `G`. And then, we can operate with it."
   ]
  },
  {
   "cell_type": "code",
   "execution_count": 5,
   "metadata": {
    "collapsed": false,
    "scrolled": true
   },
   "outputs": [
    {
     "data": {
      "text/plain": [
       "2"
      ]
     },
     "execution_count": 5,
     "metadata": {},
     "output_type": "execute_result"
    }
   ],
   "source": [
    "one=G(1)\n",
    "one*one"
   ]
  },
  {
   "cell_type": "markdown",
   "metadata": {},
   "source": [
    "As in this case, `G` is abelian, we can even perform the last operation by using `+`."
   ]
  },
  {
   "cell_type": "code",
   "execution_count": 6,
   "metadata": {
    "collapsed": false
   },
   "outputs": [
    {
     "data": {
      "text/plain": [
       "2"
      ]
     },
     "execution_count": 6,
     "metadata": {},
     "output_type": "execute_result"
    }
   ],
   "source": [
    "one+one"
   ]
  },
  {
   "cell_type": "markdown",
   "metadata": {},
   "source": [
    "Also, in this case powers become multiples."
   ]
  },
  {
   "cell_type": "code",
   "execution_count": 7,
   "metadata": {
    "collapsed": false,
    "scrolled": true
   },
   "outputs": [
    {
     "data": {
      "text/plain": [
       "True"
      ]
     },
     "execution_count": 7,
     "metadata": {},
     "output_type": "execute_result"
    }
   ],
   "source": [
    "one**3==3*one"
   ]
  },
  {
   "cell_type": "markdown",
   "metadata": {},
   "source": [
    "The Cayley table of `G` can be calculated as follows (multiplicative table)."
   ]
  },
  {
   "cell_type": "code",
   "execution_count": 8,
   "metadata": {
    "collapsed": false
   },
   "outputs": [
    {
     "data": {
      "text/html": [
       "<head><style>\n",
       "table, th, td {border: 1px solid black;\n",
       " border-collapse: collapse;}\n",
       " th, td {padding: 15px;}</style></head><p/>\n",
       " <table>\n",
       " <tr> <td bgcolor='White'> * </td> <td bgcolor=Red>0</td> <td bgcolor=Yellow>1</td> <td bgcolor=Lime>2</td> <td bgcolor=Blue>3</td> <td bgcolor=Tan>4</td> </tr>\n",
       "<tr> <td bgcolor=Red> 0  </td> <td bgcolor=Red>0</td>  <td bgcolor=Yellow>1</td>  <td bgcolor=Lime>2</td>  <td bgcolor=Blue>3</td>  <td bgcolor=Tan>4</td></tr>\n",
       " <tr> <td bgcolor=Yellow> 1  </td> <td bgcolor=Yellow>1</td>  <td bgcolor=Lime>2</td>  <td bgcolor=Blue>3</td>  <td bgcolor=Tan>4</td>  <td bgcolor=Red>0</td></tr>\n",
       " <tr> <td bgcolor=Lime> 2  </td> <td bgcolor=Lime>2</td>  <td bgcolor=Blue>3</td>  <td bgcolor=Tan>4</td>  <td bgcolor=Red>0</td>  <td bgcolor=Yellow>1</td></tr>\n",
       " <tr> <td bgcolor=Blue> 3  </td> <td bgcolor=Blue>3</td>  <td bgcolor=Tan>4</td>  <td bgcolor=Red>0</td>  <td bgcolor=Yellow>1</td>  <td bgcolor=Lime>2</td></tr>\n",
       " <tr> <td bgcolor=Tan> 4  </td> <td bgcolor=Tan>4</td>  <td bgcolor=Red>0</td>  <td bgcolor=Yellow>1</td>  <td bgcolor=Lime>2</td>  <td bgcolor=Blue>3</td></tr>\n",
       " </table>"
      ],
      "text/plain": [
       "<IPython.core.display.HTML object>"
      ]
     },
     "metadata": {},
     "output_type": "display_data"
    }
   ],
   "source": [
    "G.table()"
   ]
  },
  {
   "cell_type": "code",
   "execution_count": 9,
   "metadata": {
    "collapsed": false
   },
   "outputs": [
    {
     "data": {
      "text/plain": [
       "frozenset({0, 1, 3, 2, 4})"
      ]
     },
     "execution_count": 9,
     "metadata": {},
     "output_type": "execute_result"
    }
   ],
   "source": [
    "Set([i*one for i in range(10)])"
   ]
  },
  {
   "cell_type": "markdown",
   "metadata": {},
   "source": [
    "We can indeed do this last operation by considering the group spanned by `one`; which in this case is `G` itself."
   ]
  },
  {
   "cell_type": "code",
   "execution_count": 10,
   "metadata": {
    "collapsed": false
   },
   "outputs": [
    {
     "data": {
      "text/plain": [
       "True"
      ]
     },
     "execution_count": 10,
     "metadata": {},
     "output_type": "execute_result"
    }
   ],
   "source": [
    "H=G.generate([one])\n",
    "H==G"
   ]
  },
  {
   "cell_type": "markdown",
   "metadata": {},
   "source": [
    "This means that this group is *cyclic*."
   ]
  },
  {
   "cell_type": "code",
   "execution_count": 11,
   "metadata": {
    "collapsed": false
   },
   "outputs": [
    {
     "data": {
      "text/plain": [
       "True"
      ]
     },
     "execution_count": 11,
     "metadata": {},
     "output_type": "execute_result"
    }
   ],
   "source": [
    "G.is_cyclic()"
   ]
  },
  {
   "cell_type": "markdown",
   "metadata": {},
   "source": [
    "The inverse of an element can be compute in several ways. "
   ]
  },
  {
   "cell_type": "code",
   "execution_count": 12,
   "metadata": {
    "collapsed": false
   },
   "outputs": [
    {
     "data": {
      "text/plain": [
       "[4, 4]"
      ]
     },
     "execution_count": 12,
     "metadata": {},
     "output_type": "execute_result"
    }
   ],
   "source": [
    "[G.inverse(one), one**-1]"
   ]
  },
  {
   "cell_type": "markdown",
   "metadata": {},
   "source": [
    "We can compute the lattice of subgroups of `G`."
   ]
  },
  {
   "cell_type": "code",
   "execution_count": 13,
   "metadata": {
    "collapsed": false
   },
   "outputs": [],
   "source": [
    "subgs=G.subgroups()"
   ]
  },
  {
   "cell_type": "code",
   "execution_count": 14,
   "metadata": {
    "collapsed": false,
    "scrolled": true
   },
   "outputs": [
    {
     "data": {
      "text/plain": [
       "[[0], [0, 1, 2, 3, 4]]"
      ]
     },
     "execution_count": 14,
     "metadata": {},
     "output_type": "execute_result"
    }
   ],
   "source": [
    "[list(i) for i in subgs]"
   ]
  },
  {
   "cell_type": "markdown",
   "metadata": {},
   "source": [
    "Since `G` is abelian, all its subgroups are normal."
   ]
  },
  {
   "cell_type": "code",
   "execution_count": 15,
   "metadata": {
    "collapsed": false
   },
   "outputs": [
    {
     "data": {
      "text/plain": [
       "<generator object <genexpr> at 0x107db82d0>"
      ]
     },
     "execution_count": 15,
     "metadata": {},
     "output_type": "execute_result"
    }
   ],
   "source": [
    "all(H.is_normal_subgroup(G) for H in subgs)"
   ]
  },
  {
   "cell_type": "markdown",
   "metadata": {},
   "source": [
    "Indeed groups as `G` are quite common, this is why we dedided to write an specific function to define them: `CyclicGroup`. We will talk later more about it. \n",
    "\n",
    "The function `CyclicGroup(n)` returns (as defaul) the group $(\\mathbb{Z}_n,+)$."
   ]
  },
  {
   "cell_type": "code",
   "execution_count": 16,
   "metadata": {
    "collapsed": false
   },
   "outputs": [
    {
     "data": {
      "text/plain": [
       "True"
      ]
     },
     "execution_count": 16,
     "metadata": {},
     "output_type": "execute_result"
    }
   ],
   "source": [
    "G.is_isomorphic(CyclicGroup(5))"
   ]
  },
  {
   "cell_type": "markdown",
   "metadata": {},
   "source": [
    "## Cartesian product and quotients\n",
    "A way to obtain groups from others is by computing cartesian products, or quotients by normal subgroups.\n",
    "\n",
    "Let us, for instance, compute `G^2`"
   ]
  },
  {
   "cell_type": "code",
   "execution_count": 17,
   "metadata": {
    "collapsed": true
   },
   "outputs": [],
   "source": [
    "G2=G.cartesian(G)"
   ]
  },
  {
   "cell_type": "markdown",
   "metadata": {},
   "source": [
    "The elements of `G2` are tuples. We can as above, instanciate one of its elements."
   ]
  },
  {
   "cell_type": "code",
   "execution_count": 18,
   "metadata": {
    "collapsed": false
   },
   "outputs": [],
   "source": [
    "one2=G2((1,1))"
   ]
  },
  {
   "cell_type": "markdown",
   "metadata": {},
   "source": [
    "We can define the cyclic group generated by `one2`, and check that indeed is a subgroup of `G2`."
   ]
  },
  {
   "cell_type": "code",
   "execution_count": 19,
   "metadata": {
    "collapsed": false
   },
   "outputs": [
    {
     "data": {
      "text/plain": [
       "True"
      ]
     },
     "execution_count": 19,
     "metadata": {},
     "output_type": "execute_result"
    }
   ],
   "source": [
    "H=G2.generate([one2])\n",
    "H<=G2"
   ]
  },
  {
   "cell_type": "markdown",
   "metadata": {},
   "source": [
    "Contrary to what happened above, in this case `H` is not `G2` itself; this is due to the fact that `G2` is no longer cyclic. Let us compute a system of generators of `G2`."
   ]
  },
  {
   "cell_type": "code",
   "execution_count": 20,
   "metadata": {
    "collapsed": false
   },
   "outputs": [
    {
     "data": {
      "text/plain": [
       "False"
      ]
     },
     "execution_count": 20,
     "metadata": {},
     "output_type": "execute_result"
    }
   ],
   "source": [
    "H==G2"
   ]
  },
  {
   "cell_type": "code",
   "execution_count": 21,
   "metadata": {
    "collapsed": false
   },
   "outputs": [
    {
     "data": {
      "text/plain": [
       "False"
      ]
     },
     "execution_count": 21,
     "metadata": {},
     "output_type": "execute_result"
    }
   ],
   "source": [
    "G2.is_cyclic()"
   ]
  },
  {
   "cell_type": "code",
   "execution_count": 22,
   "metadata": {
    "collapsed": false
   },
   "outputs": [
    {
     "data": {
      "text/plain": [
       "[(1, 3), (1, 2)]"
      ]
     },
     "execution_count": 22,
     "metadata": {},
     "output_type": "execute_result"
    }
   ],
   "source": [
    "G2.generators()"
   ]
  },
  {
   "cell_type": "markdown",
   "metadata": {},
   "source": [
    "We already know that every subgroup of an abelian group is normal, and so we can compute the quotient of `G2` by `H`."
   ]
  },
  {
   "cell_type": "code",
   "execution_count": 23,
   "metadata": {
    "collapsed": false,
    "scrolled": true
   },
   "outputs": [
    {
     "data": {
      "text/plain": [
       "Group with 5 elements"
      ]
     },
     "execution_count": 23,
     "metadata": {},
     "output_type": "execute_result"
    }
   ],
   "source": [
    "G2/H"
   ]
  },
  {
   "cell_type": "markdown",
   "metadata": {},
   "source": [
    "Its elements are congruency classes, and this is why when listing them, we get a lists of sets."
   ]
  },
  {
   "cell_type": "code",
   "execution_count": 24,
   "metadata": {
    "collapsed": false
   },
   "outputs": [
    {
     "data": {
      "text/plain": [
       "[Set([(2, 2), (4, 4), (3, 3), (0, 0), (1, 1)]),\n",
       " Set([(3, 0), (1, 3), (4, 1), (2, 4), (0, 2)]),\n",
       " Set([(4, 3), (3, 2), (1, 0), (2, 1), (0, 4)]),\n",
       " Set([(4, 2), (0, 3), (3, 1), (1, 4), (2, 0)]),\n",
       " Set([(0, 1), (3, 4), (1, 2), (2, 3), (4, 0)])]"
      ]
     },
     "execution_count": 24,
     "metadata": {},
     "output_type": "execute_result"
    }
   ],
   "source": [
    "Q=G2/H\n",
    "list(Q)"
   ]
  },
  {
   "cell_type": "code",
   "execution_count": 25,
   "metadata": {
    "collapsed": false
   },
   "outputs": [
    {
     "data": {
      "text/plain": [
       "True"
      ]
     },
     "execution_count": 25,
     "metadata": {},
     "output_type": "execute_result"
    }
   ],
   "source": [
    "Q.is_abelian()"
   ]
  },
  {
   "cell_type": "code",
   "execution_count": 26,
   "metadata": {
    "collapsed": false
   },
   "outputs": [
    {
     "data": {
      "text/plain": [
       "True"
      ]
     },
     "execution_count": 26,
     "metadata": {},
     "output_type": "execute_result"
    }
   ],
   "source": [
    "Q.is_cyclic()"
   ]
  },
  {
   "cell_type": "code",
   "execution_count": 27,
   "metadata": {
    "collapsed": false
   },
   "outputs": [
    {
     "data": {
      "text/plain": [
       "[[(0, 0), (3, 0), (2, 0), (1, 0), (4, 0)],\n",
       " [(0, 0), (2, 3), (3, 2), (4, 1), (1, 4)],\n",
       " [(0, 0), (0, 1), (0, 3), (0, 2), (0, 4)],\n",
       " [(0, 0)],\n",
       " [(0, 0),\n",
       "  (1, 3),\n",
       "  (3, 0),\n",
       "  (2, 1),\n",
       "  (0, 3),\n",
       "  (4, 0),\n",
       "  (1, 2),\n",
       "  (3, 3),\n",
       "  (4, 4),\n",
       "  (2, 2),\n",
       "  (4, 1),\n",
       "  (1, 1),\n",
       "  (3, 2),\n",
       "  (0, 4),\n",
       "  (1, 4),\n",
       "  (2, 3),\n",
       "  (4, 2),\n",
       "  (1, 0),\n",
       "  (0, 1),\n",
       "  (3, 1),\n",
       "  (0, 2),\n",
       "  (2, 0),\n",
       "  (4, 3),\n",
       "  (3, 4),\n",
       "  (2, 4)],\n",
       " [(0, 0), (4, 2), (1, 3), (3, 4), (2, 1)],\n",
       " [(0, 0), (2, 2), (1, 1), (4, 4), (3, 3)],\n",
       " [(0, 0), (1, 2), (3, 1), (2, 4), (4, 3)]]"
      ]
     },
     "execution_count": 27,
     "metadata": {},
     "output_type": "execute_result"
    }
   ],
   "source": [
    "[list(J) for J in G2.subgroups()]"
   ]
  },
  {
   "cell_type": "markdown",
   "metadata": {},
   "source": [
    "## Permutations\n",
    "\n",
    "Permutations are a fundamental tool for the study of groups. Indeed permutations (bijective maps) of the set $\\{1,\\ldots,n\\}$ under composition are a group that is not abelian for $n\\ge 3$.\n",
    "\n",
    "We have included a bunch of ways to define a permuation with the class `permutation`.\n",
    "\n",
    "- `permutation(list of integers)` creates a permutation in which the $i$ goes to the $i$th elmeent in the given list of integers.\n",
    "\n",
    "- `permutation(sequence of integers)` does the same as above, by considering the sequence as a list.\n",
    "\n",
    "- `permutation(sequence of tuples)` creates a permutation that is the product of the given tuples, by considering the tuples as cycles.\n",
    "\n",
    "- `permutation(list of tuples)` does the same as in the preceding case.\n"
   ]
  },
  {
   "cell_type": "code",
   "execution_count": 28,
   "metadata": {
    "collapsed": false
   },
   "outputs": [
    {
     "data": {
      "text/plain": [
       "True"
      ]
     },
     "execution_count": 28,
     "metadata": {},
     "output_type": "execute_result"
    }
   ],
   "source": [
    "permutation(2,3,1,4)==permutation([2,3,1,4])"
   ]
  },
  {
   "cell_type": "code",
   "execution_count": 29,
   "metadata": {
    "collapsed": false
   },
   "outputs": [
    {
     "data": {
      "text/plain": [
       "True"
      ]
     },
     "execution_count": 29,
     "metadata": {},
     "output_type": "execute_result"
    }
   ],
   "source": [
    "permutation((1,2),(3,4))==permutation([(1,2),(3,4)])"
   ]
  },
  {
   "cell_type": "markdown",
   "metadata": {},
   "source": [
    "Composition of permutations is performed by using the `*` operator; powers with `**`."
   ]
  },
  {
   "cell_type": "code",
   "execution_count": 30,
   "metadata": {
    "collapsed": false
   },
   "outputs": [
    {
     "data": {
      "text/plain": [
       "( )"
      ]
     },
     "execution_count": 30,
     "metadata": {},
     "output_type": "execute_result"
    }
   ],
   "source": [
    "p=permutation((1,2),(3,4))\n",
    "p*p"
   ]
  },
  {
   "cell_type": "markdown",
   "metadata": {},
   "source": [
    "You may gues from the above output that we are displaying the identity map just by `( )`. Permutations are displayed as a product of disjoint cycles, and printed both in matrix representation and as a product of disjoint cycles."
   ]
  },
  {
   "cell_type": "code",
   "execution_count": 31,
   "metadata": {
    "collapsed": false
   },
   "outputs": [
    {
     "data": {
      "text/plain": [
       " (1, 2)(3, 4)"
      ]
     },
     "execution_count": 31,
     "metadata": {},
     "output_type": "execute_result"
    }
   ],
   "source": [
    "p"
   ]
  },
  {
   "cell_type": "code",
   "execution_count": 32,
   "metadata": {
    "collapsed": false
   },
   "outputs": [
    {
     "name": "stdout",
     "output_type": "stream",
     "text": [
      "[2, 1, 4, 3] =  (1, 2)(3, 4)\n"
     ]
    }
   ],
   "source": [
    "print(p)"
   ]
  },
  {
   "cell_type": "code",
   "execution_count": 33,
   "metadata": {
    "collapsed": false
   },
   "outputs": [
    {
     "data": {
      "text/plain": [
       "True"
      ]
     },
     "execution_count": 33,
     "metadata": {},
     "output_type": "execute_result"
    }
   ],
   "source": [
    "p**-1==p"
   ]
  },
  {
   "cell_type": "markdown",
   "metadata": {},
   "source": [
    "The order of a permutation is computed as follows."
   ]
  },
  {
   "cell_type": "code",
   "execution_count": 34,
   "metadata": {
    "collapsed": false
   },
   "outputs": [
    {
     "data": {
      "text/plain": [
       "2"
      ]
     },
     "execution_count": 34,
     "metadata": {},
     "output_type": "execute_result"
    }
   ],
   "source": [
    "p.order()"
   ]
  },
  {
   "cell_type": "markdown",
   "metadata": {},
   "source": [
    "Also we can compute its sign, inversions and decomposition into disjoint cycles."
   ]
  },
  {
   "cell_type": "code",
   "execution_count": 35,
   "metadata": {
    "collapsed": false
   },
   "outputs": [
    {
     "data": {
      "text/plain": [
       "1"
      ]
     },
     "execution_count": 35,
     "metadata": {},
     "output_type": "execute_result"
    }
   ],
   "source": [
    "p.sign()"
   ]
  },
  {
   "cell_type": "code",
   "execution_count": 36,
   "metadata": {
    "collapsed": false
   },
   "outputs": [
    {
     "data": {
      "text/plain": [
       "[(1, 2), (3, 4)]"
      ]
     },
     "execution_count": 36,
     "metadata": {},
     "output_type": "execute_result"
    }
   ],
   "source": [
    "p.inversions()"
   ]
  },
  {
   "cell_type": "code",
   "execution_count": 37,
   "metadata": {
    "collapsed": false
   },
   "outputs": [
    {
     "data": {
      "text/plain": [
       "[(1, 2), (3, 4)]"
      ]
     },
     "execution_count": 37,
     "metadata": {},
     "output_type": "execute_result"
    }
   ],
   "source": [
    "p.disjoint_cycles()"
   ]
  },
  {
   "cell_type": "markdown",
   "metadata": {},
   "source": [
    "## Groups of permutations\n",
    "\n",
    "As we mentioned above, permutations of $\\{1,\\ldots, n\\}$ with composition as binary operation are a group, which is known as the symmetric group and it is denoted by $S_n$. We have a function to created groups of permutations."
   ]
  },
  {
   "cell_type": "code",
   "execution_count": 38,
   "metadata": {
    "collapsed": false
   },
   "outputs": [
    {
     "data": {
      "text/plain": [
       "[( ),  (2, 3),  (1, 3),  (1, 2),  (1, 3, 2),  (1, 2, 3)]"
      ]
     },
     "execution_count": 38,
     "metadata": {},
     "output_type": "execute_result"
    }
   ],
   "source": [
    "S3=SymmetricGroup(3)\n",
    "list(S3)"
   ]
  },
  {
   "cell_type": "code",
   "execution_count": 39,
   "metadata": {
    "collapsed": false
   },
   "outputs": [],
   "source": [
    "p=S3(permutation(3,2,1))\n",
    "q=S3(permutation(2,1,3))"
   ]
  },
  {
   "cell_type": "code",
   "execution_count": 40,
   "metadata": {
    "collapsed": false
   },
   "outputs": [],
   "source": [
    "H=S3.generate([p,q])"
   ]
  },
  {
   "cell_type": "code",
   "execution_count": 41,
   "metadata": {
    "collapsed": false
   },
   "outputs": [
    {
     "data": {
      "text/plain": [
       "frozenset({ (1, 3, 2),  (2, 3),  (1, 2), ( ),  (1, 2, 3),  (1, 3)})"
      ]
     },
     "execution_count": 41,
     "metadata": {},
     "output_type": "execute_result"
    }
   ],
   "source": [
    "H.group_elems"
   ]
  },
  {
   "cell_type": "markdown",
   "metadata": {},
   "source": [
    "An important subgroup of the symmetric group $S_n$ is the group of all even (sign=1) permutations, which is known as the alternating group and denoted by $A_n$. It is well known that $A_n$ is a normal subgroup of $S_n$."
   ]
  },
  {
   "cell_type": "code",
   "execution_count": 42,
   "metadata": {
    "collapsed": false
   },
   "outputs": [
    {
     "data": {
      "text/plain": [
       "[Set([ (1, 2, 3),  (1, 3, 2), ( )]), Set([ (2, 3),  (1, 2),  (1, 3)])]"
      ]
     },
     "execution_count": 42,
     "metadata": {},
     "output_type": "execute_result"
    }
   ],
   "source": [
    "A3=AlternatingGroup(3)\n",
    "list(S3/A3)"
   ]
  },
  {
   "cell_type": "markdown",
   "metadata": {},
   "source": [
    "And in this way we are listing odd and even permutations in separate sets."
   ]
  },
  {
   "cell_type": "markdown",
   "metadata": {},
   "source": [
    "The symmetric group $S_n$ has always a \"copy\" of `CyclicGroup(n)`, which is the subgroup of $S_n$ spanned by the cycle $(1\\ldots n)$. We can construct it as follows. "
   ]
  },
  {
   "cell_type": "code",
   "execution_count": 43,
   "metadata": {
    "collapsed": false
   },
   "outputs": [
    {
     "data": {
      "text/plain": [
       "[( ),  (1, 2, 3),  (1, 3, 2)]"
      ]
     },
     "execution_count": 43,
     "metadata": {},
     "output_type": "execute_result"
    }
   ],
   "source": [
    "C3=CyclicGroup(3,\"permutations\")\n",
    "list(C3)"
   ]
  },
  {
   "cell_type": "code",
   "execution_count": 44,
   "metadata": {
    "collapsed": false
   },
   "outputs": [
    {
     "data": {
      "text/plain": [
       "[( ),  (1, 2, 3),  (1, 3, 2)]"
      ]
     },
     "execution_count": 44,
     "metadata": {},
     "output_type": "execute_result"
    }
   ],
   "source": [
    "Z3=CyclicGroup(3)\n",
    "list(C3)"
   ]
  },
  {
   "cell_type": "code",
   "execution_count": 45,
   "metadata": {
    "collapsed": false
   },
   "outputs": [
    {
     "data": {
      "text/plain": [
       "True"
      ]
     },
     "execution_count": 45,
     "metadata": {},
     "output_type": "execute_result"
    }
   ],
   "source": [
    "C3.is_isomorphic(Z3)"
   ]
  },
  {
   "cell_type": "markdown",
   "metadata": {},
   "source": [
    "Another important subgroup of the $S_n$ is the dihedral group of movements that leave invariant an $n$-gon centered in the origin. This group can be represented either by permutations or by symmetries and rotations."
   ]
  },
  {
   "cell_type": "code",
   "execution_count": 46,
   "metadata": {
    "collapsed": false
   },
   "outputs": [
    {
     "data": {
      "text/html": [
       "<head><style>\n",
       "table, th, td {border: 1px solid black;\n",
       " border-collapse: collapse;}\n",
       " th, td {padding: 15px;}</style></head><p/>\n",
       " <table>\n",
       " <tr> <td bgcolor='White'> * </td> <td bgcolor=Red>'R0'</td> <td bgcolor=Yellow>'R1'</td> <td bgcolor=Lime>'R2'</td> <td bgcolor=Blue>'R3'</td> <td bgcolor=Tan>'S3'</td> <td bgcolor=YellowGreen>'S2'</td> <td bgcolor=Violet>'S1'</td> <td bgcolor=SkyBlue>'S0'</td> </tr>\n",
       "<tr> <td bgcolor=Red> 'R0'  </td> <td bgcolor=Red>'R0'</td>  <td bgcolor=Yellow>'R1'</td>  <td bgcolor=Lime>'R2'</td>  <td bgcolor=Blue>'R3'</td>  <td bgcolor=Tan>'S3'</td>  <td bgcolor=YellowGreen>'S2'</td>  <td bgcolor=Violet>'S1'</td>  <td bgcolor=SkyBlue>'S0'</td></tr>\n",
       " <tr> <td bgcolor=Yellow> 'R1'  </td> <td bgcolor=Yellow>'R1'</td>  <td bgcolor=Lime>'R2'</td>  <td bgcolor=Blue>'R3'</td>  <td bgcolor=Red>'R0'</td>  <td bgcolor=SkyBlue>'S0'</td>  <td bgcolor=Tan>'S3'</td>  <td bgcolor=YellowGreen>'S2'</td>  <td bgcolor=Violet>'S1'</td></tr>\n",
       " <tr> <td bgcolor=Lime> 'R2'  </td> <td bgcolor=Lime>'R2'</td>  <td bgcolor=Blue>'R3'</td>  <td bgcolor=Red>'R0'</td>  <td bgcolor=Yellow>'R1'</td>  <td bgcolor=Violet>'S1'</td>  <td bgcolor=SkyBlue>'S0'</td>  <td bgcolor=Tan>'S3'</td>  <td bgcolor=YellowGreen>'S2'</td></tr>\n",
       " <tr> <td bgcolor=Blue> 'R3'  </td> <td bgcolor=Blue>'R3'</td>  <td bgcolor=Red>'R0'</td>  <td bgcolor=Yellow>'R1'</td>  <td bgcolor=Lime>'R2'</td>  <td bgcolor=YellowGreen>'S2'</td>  <td bgcolor=Violet>'S1'</td>  <td bgcolor=SkyBlue>'S0'</td>  <td bgcolor=Tan>'S3'</td></tr>\n",
       " <tr> <td bgcolor=Tan> 'S3'  </td> <td bgcolor=Tan>'S3'</td>  <td bgcolor=YellowGreen>'S2'</td>  <td bgcolor=Violet>'S1'</td>  <td bgcolor=SkyBlue>'S0'</td>  <td bgcolor=Red>'R0'</td>  <td bgcolor=Yellow>'R1'</td>  <td bgcolor=Lime>'R2'</td>  <td bgcolor=Blue>'R3'</td></tr>\n",
       " <tr> <td bgcolor=YellowGreen> 'S2'  </td> <td bgcolor=YellowGreen>'S2'</td>  <td bgcolor=Violet>'S1'</td>  <td bgcolor=SkyBlue>'S0'</td>  <td bgcolor=Tan>'S3'</td>  <td bgcolor=Blue>'R3'</td>  <td bgcolor=Red>'R0'</td>  <td bgcolor=Yellow>'R1'</td>  <td bgcolor=Lime>'R2'</td></tr>\n",
       " <tr> <td bgcolor=Violet> 'S1'  </td> <td bgcolor=Violet>'S1'</td>  <td bgcolor=SkyBlue>'S0'</td>  <td bgcolor=Tan>'S3'</td>  <td bgcolor=YellowGreen>'S2'</td>  <td bgcolor=Lime>'R2'</td>  <td bgcolor=Blue>'R3'</td>  <td bgcolor=Red>'R0'</td>  <td bgcolor=Yellow>'R1'</td></tr>\n",
       " <tr> <td bgcolor=SkyBlue> 'S0'  </td> <td bgcolor=SkyBlue>'S0'</td>  <td bgcolor=Tan>'S3'</td>  <td bgcolor=YellowGreen>'S2'</td>  <td bgcolor=Violet>'S1'</td>  <td bgcolor=Yellow>'R1'</td>  <td bgcolor=Lime>'R2'</td>  <td bgcolor=Blue>'R3'</td>  <td bgcolor=Red>'R0'</td></tr>\n",
       " </table>"
      ],
      "text/plain": [
       "<IPython.core.display.HTML object>"
      ]
     },
     "metadata": {},
     "output_type": "display_data"
    }
   ],
   "source": [
    "D4=DihedralGroup(4)\n",
    "D4.table()"
   ]
  },
  {
   "cell_type": "markdown",
   "metadata": {},
   "source": [
    "## Product and intersection of subgroups\n",
    "Product and intersection of subgroups of a group $G$ are again subgroups of $G$"
   ]
  },
  {
   "cell_type": "code",
   "execution_count": 47,
   "metadata": {
    "collapsed": false,
    "scrolled": false
   },
   "outputs": [
    {
     "data": {
      "text/plain": [
       "[( ),\n",
       "  (1, 4, 3, 2),\n",
       "  (1, 3)(2, 4),\n",
       "  (2, 4),\n",
       "  (1, 2, 3, 4),\n",
       "  (1, 4)(2, 3),\n",
       "  (1, 2)(3, 4),\n",
       "  (1, 3)]"
      ]
     },
     "execution_count": 47,
     "metadata": {},
     "output_type": "execute_result"
    }
   ],
   "source": [
    "Dp4=DihedralGroup(4,\"permutations\")\n",
    "list(Dp4)"
   ]
  },
  {
   "cell_type": "code",
   "execution_count": 48,
   "metadata": {
    "collapsed": false
   },
   "outputs": [
    {
     "data": {
      "text/plain": [
       "Group with 24 elements"
      ]
     },
     "execution_count": 48,
     "metadata": {},
     "output_type": "execute_result"
    }
   ],
   "source": [
    "A4=AlternatingGroup(4)\n",
    "A4*Dp4"
   ]
  },
  {
   "cell_type": "code",
   "execution_count": 49,
   "metadata": {
    "collapsed": false
   },
   "outputs": [
    {
     "data": {
      "text/plain": [
       "[( ),  (1, 4)(2, 3),  (1, 2)(3, 4),  (1, 3)(2, 4)]"
      ]
     },
     "execution_count": 49,
     "metadata": {},
     "output_type": "execute_result"
    }
   ],
   "source": [
    "list(A4.intersection(Dp4))"
   ]
  },
  {
   "cell_type": "markdown",
   "metadata": {},
   "source": [
    "We can for instance, illustrate the third isometry theorem: $KN/N\\cong K/(K\\cap N)$."
   ]
  },
  {
   "cell_type": "code",
   "execution_count": 50,
   "metadata": {
    "collapsed": false
   },
   "outputs": [
    {
     "data": {
      "text/plain": [
       "True"
      ]
     },
     "execution_count": 50,
     "metadata": {},
     "output_type": "execute_result"
    }
   ],
   "source": [
    "Q1=(A4*Dp4)/A4\n",
    "Q2=Dp4/(A4.intersection(Dp4))\n",
    "Q1.is_isomorphic(Q2)"
   ]
  },
  {
   "cell_type": "markdown",
   "metadata": {},
   "source": [
    "## Lateral classes, conjugacy clases and center"
   ]
  },
  {
   "cell_type": "markdown",
   "metadata": {},
   "source": [
    "Lateral classes are easy to construct; they are considered as sets."
   ]
  },
  {
   "cell_type": "code",
   "execution_count": 51,
   "metadata": {
    "collapsed": false
   },
   "outputs": [
    {
     "data": {
      "text/plain": [
       "{ (1, 3, 2, 4),\n",
       "  (1, 2, 3, 4),\n",
       "  (1, 4, 2, 3),\n",
       "  (1, 4),\n",
       "  (1, 4, 3, 2),\n",
       "  (1, 2, 4, 3),\n",
       "  (2, 3),\n",
       "  (1, 3),\n",
       "  (1, 2),\n",
       "  (1, 3, 4, 2),\n",
       "  (3, 4),\n",
       "  (2, 4)}"
      ]
     },
     "execution_count": 51,
     "metadata": {},
     "output_type": "execute_result"
    }
   ],
   "source": [
    "S4=SymmetricGroup(4)\n",
    "p=S4(permutation([2,3,4,1]))\n",
    "p*A4"
   ]
  },
  {
   "cell_type": "code",
   "execution_count": 52,
   "metadata": {
    "collapsed": false
   },
   "outputs": [
    {
     "data": {
      "text/plain": [
       "{ (3, 4),\n",
       "  (2, 3),\n",
       "  (1, 4, 3, 2),\n",
       "  (1, 4),\n",
       "  (1, 2, 4, 3),\n",
       "  (1, 3, 2, 4),\n",
       "  (1, 3),\n",
       "  (2, 4),\n",
       "  (1, 4, 2, 3),\n",
       "  (1, 2),\n",
       "  (1, 3, 4, 2),\n",
       "  (1, 2, 3, 4)}"
      ]
     },
     "execution_count": 52,
     "metadata": {},
     "output_type": "execute_result"
    }
   ],
   "source": [
    "A4*p"
   ]
  },
  {
   "cell_type": "markdown",
   "metadata": {},
   "source": [
    "For a group $G$, the conjugacy class of an element $x$ ($\\{gxg^-1\\mid g\\in G\\}$) and of a subgroup $H$ ($\\{gHg^{-1}\\mid g\\in G\\}$) can be calculated as follows."
   ]
  },
  {
   "cell_type": "code",
   "execution_count": 53,
   "metadata": {
    "collapsed": false
   },
   "outputs": [
    {
     "data": {
      "text/plain": [
       "frozenset({ (1, 3, 4, 2),\n",
       "            (1, 2, 3, 4),\n",
       "            (1, 2, 4, 3),\n",
       "            (1, 4, 3, 2),\n",
       "            (1, 4, 2, 3),\n",
       "            (1, 3, 2, 4)})"
      ]
     },
     "execution_count": 53,
     "metadata": {},
     "output_type": "execute_result"
    }
   ],
   "source": [
    "p.conjugacy_class()"
   ]
  },
  {
   "cell_type": "code",
   "execution_count": 54,
   "metadata": {
    "collapsed": false
   },
   "outputs": [
    {
     "data": {
      "text/plain": [
       "{frozenset({ (1, 2, 3),\n",
       "             (1, 2, 4),\n",
       "             (1, 3, 2),\n",
       "             (2, 3, 4),\n",
       "            ( ),\n",
       "             (1, 4, 3),\n",
       "             (1, 4, 2),\n",
       "             (1, 4)(2, 3),\n",
       "             (1, 2)(3, 4),\n",
       "             (2, 4, 3),\n",
       "             (1, 3)(2, 4),\n",
       "             (1, 3, 4)})}"
      ]
     },
     "execution_count": 54,
     "metadata": {},
     "output_type": "execute_result"
    }
   ],
   "source": [
    "A4.conjugacy_class()"
   ]
  },
  {
   "cell_type": "markdown",
   "metadata": {},
   "source": [
    "And also the set of all conjugacy classes."
   ]
  },
  {
   "cell_type": "code",
   "execution_count": 55,
   "metadata": {
    "collapsed": false
   },
   "outputs": [
    {
     "data": {
      "text/plain": [
       "{frozenset({ (1, 4, 2, 3),\n",
       "             (1, 3, 2, 4),\n",
       "             (1, 4, 3, 2),\n",
       "             (1, 2, 4, 3),\n",
       "             (1, 2, 3, 4),\n",
       "             (1, 3, 4, 2)}),\n",
       " frozenset({ (1, 3, 4),\n",
       "             (1, 3, 2),\n",
       "             (2, 3, 4),\n",
       "             (2, 4, 3),\n",
       "             (1, 4, 3),\n",
       "             (1, 2, 4),\n",
       "             (1, 2, 3),\n",
       "             (1, 4, 2)}),\n",
       " frozenset({ (1, 4)(2, 3),  (1, 3)(2, 4),  (1, 2)(3, 4)}),\n",
       " frozenset({ (1, 2),  (2, 3),  (1, 3),  (2, 4),  (3, 4),  (1, 4)})}"
      ]
     },
     "execution_count": 55,
     "metadata": {},
     "output_type": "execute_result"
    }
   ],
   "source": [
    "S4.conjugacy_classes()"
   ]
  },
  {
   "cell_type": "markdown",
   "metadata": {},
   "source": [
    "The normalizar of a subgroup $H$ ($\\{g\\in G\\mid gH=Hg\\}$) can be computed with `normalizer`."
   ]
  },
  {
   "cell_type": "code",
   "execution_count": 56,
   "metadata": {
    "collapsed": false
   },
   "outputs": [
    {
     "data": {
      "text/plain": [
       "Group with 24 elements"
      ]
     },
     "execution_count": 56,
     "metadata": {},
     "output_type": "execute_result"
    }
   ],
   "source": [
    "A4.normalizer()"
   ]
  },
  {
   "cell_type": "markdown",
   "metadata": {},
   "source": [
    "And the center (the set of elements that commute with all the elements in $G$) with `center`."
   ]
  },
  {
   "cell_type": "code",
   "execution_count": 57,
   "metadata": {
    "collapsed": false
   },
   "outputs": [
    {
     "data": {
      "text/plain": [
       "Group with 1 elements"
      ]
     },
     "execution_count": 57,
     "metadata": {},
     "output_type": "execute_result"
    }
   ],
   "source": [
    "S4.center()"
   ]
  },
  {
   "cell_type": "markdown",
   "metadata": {},
   "source": [
    "## Quaternions and the Klein group"
   ]
  },
  {
   "cell_type": "code",
   "execution_count": 58,
   "metadata": {
    "collapsed": false
   },
   "outputs": [
    {
     "data": {
      "text/plain": [
       "['1', 'i', 'k', 'j', '-i', '-k', '-j', '-1']"
      ]
     },
     "execution_count": 58,
     "metadata": {},
     "output_type": "execute_result"
    }
   ],
   "source": [
    "Q2=QuaternionGroup()\n",
    "list(Q2)"
   ]
  },
  {
   "cell_type": "code",
   "execution_count": 59,
   "metadata": {
    "collapsed": false
   },
   "outputs": [
    {
     "data": {
      "text/plain": [
       "Group with 2 elements"
      ]
     },
     "execution_count": 59,
     "metadata": {},
     "output_type": "execute_result"
    }
   ],
   "source": [
    "Q2.center()"
   ]
  },
  {
   "cell_type": "markdown",
   "metadata": {},
   "source": [
    "Klein group can be represented as $\\mathbb{Z}_2\\times \\mathbb{Z}_2$ or as a subgroup of $A_4$ (and thus of $S_4$)"
   ]
  },
  {
   "cell_type": "code",
   "execution_count": 60,
   "metadata": {
    "collapsed": true
   },
   "outputs": [],
   "source": [
    "K=KleinGroup()"
   ]
  },
  {
   "cell_type": "code",
   "execution_count": 61,
   "metadata": {
    "collapsed": false
   },
   "outputs": [
    {
     "data": {
      "text/plain": [
       "[(0, 0), (0, 1), (1, 0), (1, 1)]"
      ]
     },
     "execution_count": 61,
     "metadata": {},
     "output_type": "execute_result"
    }
   ],
   "source": [
    "list(K)"
   ]
  },
  {
   "cell_type": "code",
   "execution_count": 62,
   "metadata": {
    "collapsed": false
   },
   "outputs": [
    {
     "data": {
      "text/plain": [
       "[( ),  (1, 4)(2, 3),  (1, 3)(2, 4),  (1, 2)(3, 4)]"
      ]
     },
     "execution_count": 62,
     "metadata": {},
     "output_type": "execute_result"
    }
   ],
   "source": [
    "list(KleinGroup(\"permutations\"))"
   ]
  },
  {
   "cell_type": "markdown",
   "metadata": {},
   "source": [
    "It is well known that the quaternions modulo its center yield the Klein group."
   ]
  },
  {
   "cell_type": "code",
   "execution_count": 63,
   "metadata": {
    "collapsed": true
   },
   "outputs": [],
   "source": [
    "Q=Q2/Q2.center()"
   ]
  },
  {
   "cell_type": "code",
   "execution_count": 64,
   "metadata": {
    "collapsed": false
   },
   "outputs": [
    {
     "data": {
      "text/plain": [
       "False"
      ]
     },
     "execution_count": 64,
     "metadata": {},
     "output_type": "execute_result"
    }
   ],
   "source": [
    "Q.is_cyclic()"
   ]
  },
  {
   "cell_type": "code",
   "execution_count": 65,
   "metadata": {
    "collapsed": false
   },
   "outputs": [
    {
     "data": {
      "text/plain": [
       "True"
      ]
     },
     "execution_count": 65,
     "metadata": {},
     "output_type": "execute_result"
    }
   ],
   "source": [
    "Q.is_isomorphic(K)"
   ]
  },
  {
   "cell_type": "markdown",
   "metadata": {},
   "source": [
    "## Drawing the lattice of subgroups\n",
    "We first load the modules and functions needed to draw."
   ]
  },
  {
   "cell_type": "code",
   "execution_count": 66,
   "metadata": {
    "collapsed": true
   },
   "outputs": [],
   "source": [
    "from IPython.display import Image\n",
    "import graphviz as gv\n",
    "import networkx as nx"
   ]
  },
  {
   "cell_type": "markdown",
   "metadata": {},
   "source": [
    "Now we define a graph, and the group. The vertices of the graph will be the subgroups of the given group."
   ]
  },
  {
   "cell_type": "code",
   "execution_count": 67,
   "metadata": {
    "collapsed": true
   },
   "outputs": [],
   "source": [
    "A=nx.DiGraph()\n",
    "G=SymmetricGroup(3)\n",
    "sbs=Set(G.subgroups())"
   ]
  },
  {
   "cell_type": "markdown",
   "metadata": {},
   "source": [
    "Now we select the edges of our graph and add them to the graph."
   ]
  },
  {
   "cell_type": "code",
   "execution_count": 68,
   "metadata": {
    "collapsed": true
   },
   "outputs": [],
   "source": [
    "edges=[(Set(a),Set(b)) for a in sbs for b in sbs if (b <= a) and (a!=b)]"
   ]
  },
  {
   "cell_type": "code",
   "execution_count": 69,
   "metadata": {
    "collapsed": true
   },
   "outputs": [],
   "source": [
    "A.add_edges_from(edges)"
   ]
  },
  {
   "cell_type": "markdown",
   "metadata": {},
   "source": [
    "Finally we draw the graph using `graphviz`."
   ]
  },
  {
   "cell_type": "code",
   "execution_count": 70,
   "metadata": {
    "collapsed": false,
    "scrolled": true
   },
   "outputs": [
    {
     "data": {
      "image/png": "[encoded data removed]",
      "text/plain": [
       "<IPython.core.display.Image object>"
      ]
     },
     "execution_count": 70,
     "metadata": {},
     "output_type": "execute_result"
    }
   ],
   "source": [
    "d=nx.to_pydot(A,strict=True)\n",
    "png_str = d.create_png()\n",
    "Image(data=png_str)"
   ]
  },
  {
   "cell_type": "markdown",
   "metadata": {},
   "source": [
    "Now with $\\mathbb{Z}_4\\times \\mathbb{Z}_3$"
   ]
  },
  {
   "cell_type": "code",
   "execution_count": 71,
   "metadata": {
    "collapsed": false,
    "scrolled": true
   },
   "outputs": [
    {
     "data": {
      "image/png": "[encoded data removed]",
      "text/plain": [
       "<IPython.core.display.Image object>"
      ]
     },
     "execution_count": 71,
     "metadata": {},
     "output_type": "execute_result"
    }
   ],
   "source": [
    "G=CyclicGroup(4).cartesian(CyclicGroup(3))\n",
    "A=nx.DiGraph()\n",
    "sbs=Set(G.subgroups())\n",
    "edges=[(Set(a),Set(b)) for a in sbs for b in sbs if (b <= a) and (a!=b)]\n",
    "A.add_edges_from(edges)\n",
    "d=nx.to_pydot(A,strict=True)\n",
    "png_str = d.create_png()\n",
    "Image(data=png_str)"
   ]
  },
  {
   "cell_type": "markdown",
   "metadata": {},
   "source": [
    "Or we can draw the Cayley graph of $S_3$ with respect to $(1,2,3)$ and $(2,3)$"
   ]
  },
  {
   "cell_type": "code",
   "execution_count": 72,
   "metadata": {
    "collapsed": true
   },
   "outputs": [],
   "source": [
    "G=SymmetricGroup(3)\n",
    "A=nx.DiGraph()\n",
    "p=G(permutation([1,3,2]))\n",
    "q=G(permutation([2,3,1]))\n",
    "vertices=[repr(a) for a in G]\n",
    "A.add_nodes_from(vertices)\n",
    "edges1=[(repr(a),repr(b)) for a in G for b in G if b==a*p]\n",
    "edges2=[(repr(a),repr(b)) for a in G for b in G if b==a*q]\n",
    "A.add_edges_from(edges1,color='red')\n",
    "A.add_edges_from(edges2,color='blue')"
   ]
  },
  {
   "cell_type": "code",
   "execution_count": 74,
   "metadata": {
    "collapsed": false
   },
   "outputs": [
    {
     "data": {
      "image/png": "[encoded data removed]",
      "text/plain": [
       "<IPython.core.display.Image object>"
      ]
     },
     "execution_count": 74,
     "metadata": {},
     "output_type": "execute_result"
    }
   ],
   "source": [
    "d=nx.to_pydot(A)\n",
    "png_str = d.create_png()\n",
    "Image(data=png_str)"
   ]
  }
 ],
 "metadata": {
  "kernelspec": {
   "display_name": "Python 2",
   "language": "python",
   "name": "python2"
  },
  "language_info": {
   "codemirror_mode": {
    "name": "ipython",
    "version": 2
   },
   "file_extension": ".py",
   "mimetype": "text/x-python",
   "name": "python",
   "nbconvert_exporter": "python",
   "pygments_lexer": "ipython2",
   "version": "2.7.10"
  }
 },
 "nbformat": 4,
 "nbformat_minor": 0
}
