{
 "cells": [
  {
   "cell_type": "markdown",
   "metadata": {},
   "source": [
    "# Grupos con iPython\n",
    "\n",
    "Vamos a utilizar la librería [absalg](https://github.com/naftaliharris/Abstract-Algebra) de [Naftali Harris](http://www.naftaliharris.com). "
   ]
  },
  {
   "cell_type": "code",
   "execution_count": 1,
   "metadata": {
    "collapsed": false
   },
   "outputs": [],
   "source": [
    "from absalg import * "
   ]
  },
  {
   "cell_type": "code",
   "execution_count": 6,
   "metadata": {
    "collapsed": false
   },
   "outputs": [],
   "source": [
    "Z10=Zn(10)"
   ]
  },
  {
   "cell_type": "code",
   "execution_count": 8,
   "metadata": {
    "collapsed": false
   },
   "outputs": [
    {
     "data": {
      "text/plain": [
       "True"
      ]
     },
     "execution_count": 8,
     "metadata": {},
     "output_type": "execute_result"
    }
   ],
   "source": [
    "Z10.is_abelian()"
   ]
  },
  {
   "cell_type": "code",
   "execution_count": 89,
   "metadata": {
    "collapsed": false
   },
   "outputs": [
    {
     "data": {
      "text/plain": [
       "True"
      ]
     },
     "execution_count": 89,
     "metadata": {},
     "output_type": "execute_result"
    }
   ],
   "source": [
    "Z10.is_cyclic()"
   ]
  },
  {
   "cell_type": "code",
   "execution_count": 10,
   "metadata": {
    "collapsed": false
   },
   "outputs": [
    {
     "name": "stdout",
     "output_type": "stream",
     "text": [
      "e: 0\n",
      "a: 1\n",
      "b: 2\n",
      "c: 3\n",
      "d: 4\n",
      "f: 5\n",
      "g: 6\n",
      "h: 7\n",
      "i: 8\n",
      "j: 9\n",
      "\n",
      "   | e | a | b | c | d | f | g | h | i | j |\n",
      "---+---+---+---+---+---+---+---+---+---+---+\n",
      " e | e | a | b | c | d | f | g | h | i | j |\n",
      "---+---+---+---+---+---+---+---+---+---+---+\n",
      " a | a | b | c | d | f | g | h | i | j | e |\n",
      "---+---+---+---+---+---+---+---+---+---+---+\n",
      " b | b | c | d | f | g | h | i | j | e | a |\n",
      "---+---+---+---+---+---+---+---+---+---+---+\n",
      " c | c | d | f | g | h | i | j | e | a | b |\n",
      "---+---+---+---+---+---+---+---+---+---+---+\n",
      " d | d | f | g | h | i | j | e | a | b | c |\n",
      "---+---+---+---+---+---+---+---+---+---+---+\n",
      " f | f | g | h | i | j | e | a | b | c | d |\n",
      "---+---+---+---+---+---+---+---+---+---+---+\n",
      " g | g | h | i | j | e | a | b | c | d | f |\n",
      "---+---+---+---+---+---+---+---+---+---+---+\n",
      " h | h | i | j | e | a | b | c | d | f | g |\n",
      "---+---+---+---+---+---+---+---+---+---+---+\n",
      " i | i | j | e | a | b | c | d | f | g | h |\n",
      "---+---+---+---+---+---+---+---+---+---+---+\n",
      " j | j | e | a | b | c | d | f | g | h | i |\n",
      "---+---+---+---+---+---+---+---+---+---+---+\n",
      "\n"
     ]
    }
   ],
   "source": [
    "print(Z10)"
   ]
  },
  {
   "cell_type": "code",
   "execution_count": 11,
   "metadata": {
    "collapsed": false
   },
   "outputs": [
    {
     "data": {
      "text/plain": [
       "frozenset({<absalg.Group.Group instance at 0x1040f95a8>,\n",
       "           <absalg.Group.Group instance at 0x1040f9b00>,\n",
       "           <absalg.Group.Group instance at 0x1041044d0>,\n",
       "           <absalg.Group.Group instance at 0x1041045a8>})"
      ]
     },
     "execution_count": 11,
     "metadata": {},
     "output_type": "execute_result"
    }
   ],
   "source": [
    "Z10.subgroups()"
   ]
  },
  {
   "cell_type": "code",
   "execution_count": 19,
   "metadata": {
    "collapsed": true
   },
   "outputs": [],
   "source": [
    "subs=Z10.subgroups()"
   ]
  },
  {
   "cell_type": "code",
   "execution_count": 90,
   "metadata": {
    "collapsed": false,
    "scrolled": true
   },
   "outputs": [
    {
     "name": "stdout",
     "output_type": "stream",
     "text": [
      "0\n",
      "1\n",
      "2\n",
      "3\n",
      "4\n",
      "5\n",
      "6\n",
      "7\n",
      "8\n",
      "9\n",
      "---\n",
      "0\n",
      "8\n",
      "2\n",
      "4\n",
      "6\n",
      "---\n",
      "0\n",
      "---\n",
      "0\n",
      "5\n",
      "---\n"
     ]
    }
   ],
   "source": [
    "for g in subs:\n",
    "    for a in g:\n",
    "        print a\n",
    "    print \"---\""
   ]
  },
  {
   "cell_type": "code",
   "execution_count": 30,
   "metadata": {
    "collapsed": false
   },
   "outputs": [
    {
     "name": "stdout",
     "output_type": "stream",
     "text": [
      "Help on method generators in module absalg.Group:\n",
      "\n",
      "generators(self) unbound absalg.Group.Group method\n",
      "    Returns a list of GroupElems that generate self, with length\n",
      "    at most log_2(len(self)) + 1\n",
      "\n"
     ]
    }
   ],
   "source": [
    "help(Group.generators)"
   ]
  },
  {
   "cell_type": "code",
   "execution_count": 2,
   "metadata": {
    "collapsed": true
   },
   "outputs": [],
   "source": [
    "G=Sn(4)"
   ]
  },
  {
   "cell_type": "code",
   "execution_count": 99,
   "metadata": {
    "collapsed": false
   },
   "outputs": [
    {
     "name": "stdout",
     "output_type": "stream",
     "text": [
      "(1, 0, 3, 2)\n",
      "(3, 1, 2, 0)\n",
      "(0, 3, 1, 2)\n"
     ]
    }
   ],
   "source": [
    "for a in G.generators():\n",
    "    print(a)"
   ]
  },
  {
   "cell_type": "code",
   "execution_count": 100,
   "metadata": {
    "collapsed": false
   },
   "outputs": [
    {
     "name": "stdout",
     "output_type": "stream",
     "text": [
      "e: (0, 1, 2, 3)\n",
      "a: (1, 0, 3, 2)\n",
      "b: (3, 0, 2, 1)\n",
      "c: (3, 1, 2, 0)\n",
      "d: (1, 2, 3, 0)\n",
      "f: (2, 0, 1, 3)\n",
      "g: (3, 0, 1, 2)\n",
      "h: (0, 1, 3, 2)\n",
      "i: (0, 2, 1, 3)\n",
      "j: (3, 2, 1, 0)\n",
      "k: (1, 0, 2, 3)\n",
      "l: (1, 3, 2, 0)\n",
      "m: (0, 3, 2, 1)\n",
      "n: (3, 1, 0, 2)\n",
      "o: (2, 0, 3, 1)\n",
      "p: (3, 2, 0, 1)\n",
      "q: (0, 2, 3, 1)\n",
      "r: (0, 3, 1, 2)\n",
      "s: (1, 3, 0, 2)\n",
      "t: (2, 3, 0, 1)\n",
      "u: (1, 2, 0, 3)\n",
      "v: (2, 1, 0, 3)\n",
      "w: (2, 3, 1, 0)\n",
      "x: (2, 1, 3, 0)\n",
      "\n",
      "   | e | a | b | c | d | f | g | h | i | j | k | l | m | n | o | p | q | r | s | t | u | v | w | x |\n",
      "---+---+---+---+---+---+---+---+---+---+---+---+---+---+---+---+---+---+---+---+---+---+---+---+---+\n",
      " e | e | a | b | c | d | f | g | h | i | j | k | l | m | n | o | p | q | r | s | t | u | v | w | x |\n",
      "---+---+---+---+---+---+---+---+---+---+---+---+---+---+---+---+---+---+---+---+---+---+---+---+---+\n",
      " a | a | e | x | o | m | n | v | k | s | t | h | q | d | f | c | w | l | u | i | j | r | g | p | b |\n",
      "---+---+---+---+---+---+---+---+---+---+---+---+---+---+---+---+---+---+---+---+---+---+---+---+---+\n",
      " b | b | r | l | k | i | t | s | g | p | u | m | e | c | a | w | d | j | n | h | x | q | o | v | f |\n",
      "---+---+---+---+---+---+---+---+---+---+---+---+---+---+---+---+---+---+---+---+---+---+---+---+---+\n",
      " c | c | s | m | e | u | w | r | n | j | i | l | k | b | h | t | q | p | g | a | o | d | x | f | v |\n",
      "---+---+---+---+---+---+---+---+---+---+---+---+---+---+---+---+---+---+---+---+---+---+---+---+---+\n",
      " d | d | v | h | q | t | c | e | u | l | m | x | o | a | i | n | r | s | k | f | g | w | j | b | p |\n",
      "---+---+---+---+---+---+---+---+---+---+---+---+---+---+---+---+---+---+---+---+---+---+---+---+---+\n",
      " f | f | q | j | g | h | u | p | o | v | n | i | r | w | b | d | c | x | t | m | l | e | k | s | a |\n",
      "---+---+---+---+---+---+---+---+---+---+---+---+---+---+---+---+---+---+---+---+---+---+---+---+---+\n",
      " g | g | m | w | f | e | s | t | b | n | v | r | i | j | o | l | x | c | p | q | d | h | a | u | k |\n",
      "---+---+---+---+---+---+---+---+---+---+---+---+---+---+---+---+---+---+---+---+---+---+---+---+---+\n",
      " h | h | k | o | x | l | g | f | e | r | w | a | d | q | v | b | t | m | i | u | p | s | n | j | c |\n",
      "---+---+---+---+---+---+---+---+---+---+---+---+---+---+---+---+---+---+---+---+---+---+---+---+---+\n",
      " i | i | o | g | j | x | k | b | q | e | c | f | w | r | p | a | n | h | m | t | s | v | u | l | d |\n",
      "---+---+---+---+---+---+---+---+---+---+---+---+---+---+---+---+---+---+---+---+---+---+---+---+---+\n",
      " j | j | t | r | i | v | l | m | p | c | e | w | f | g | q | s | h | n | b | o | a | x | d | k | u |\n",
      "---+---+---+---+---+---+---+---+---+---+---+---+---+---+---+---+---+---+---+---+---+---+---+---+---+\n",
      " k | k | h | c | b | q | v | n | a | u | p | e | m | l | g | x | j | d | s | r | w | i | f | t | o |\n",
      "---+---+---+---+---+---+---+---+---+---+---+---+---+---+---+---+---+---+---+---+---+---+---+---+---+\n",
      " l | l | n | e | m | p | x | h | s | d | q | c | b | k | r | v | i | u | a | g | f | j | w | o | t |\n",
      "---+---+---+---+---+---+---+---+---+---+---+---+---+---+---+---+---+---+---+---+---+---+---+---+---+\n",
      " m | m | g | k | l | j | o | a | r | q | d | b | c | e | s | f | u | i | h | n | v | p | t | x | w |\n",
      "---+---+---+---+---+---+---+---+---+---+---+---+---+---+---+---+---+---+---+---+---+---+---+---+---+\n",
      " n | n | l | t | v | k | r | w | c | g | f | s | u | p | x | m | o | b | j | d | q | a | h | i | e |\n",
      "---+---+---+---+---+---+---+---+---+---+---+---+---+---+---+---+---+---+---+---+---+---+---+---+---+\n",
      " o | o | i | d | a | r | p | u | f | t | s | q | h | x | k | j | l | w | v | e | c | m | b | n | g |\n",
      "---+---+---+---+---+---+---+---+---+---+---+---+---+---+---+---+---+---+---+---+---+---+---+---+---+\n",
      " p | p | w | s | u | f | m | l | j | b | k | t | v | n | d | r | a | g | c | x | h | o | q | e | i |\n",
      "---+---+---+---+---+---+---+---+---+---+---+---+---+---+---+---+---+---+---+---+---+---+---+---+---+\n",
      " q | q | f | a | d | w | b | k | i | m | l | o | x | h | u | g | s | r | e | v | n | t | p | c | j |\n",
      "---+---+---+---+---+---+---+---+---+---+---+---+---+---+---+---+---+---+---+---+---+---+---+---+---+\n",
      " r | r | b | f | w | c | a | o | m | h | x | g | j | i | t | k | v | e | q | p | u | n | s | d | l |\n",
      "---+---+---+---+---+---+---+---+---+---+---+---+---+---+---+---+---+---+---+---+---+---+---+---+---+\n",
      " s | s | c | v | t | b | h | x | l | a | o | n | p | u | w | e | f | k | d | j | i | g | r | q | m |\n",
      "---+---+---+---+---+---+---+---+---+---+---+---+---+---+---+---+---+---+---+---+---+---+---+---+---+\n",
      " t | t | j | u | s | g | q | d | w | o | a | p | n | v | l | i | k | f | x | c | e | b | m | h | r |\n",
      "---+---+---+---+---+---+---+---+---+---+---+---+---+---+---+---+---+---+---+---+---+---+---+---+---+\n",
      " u | u | x | n | p | o | e | c | d | k | b | v | t | s | j | h | g | a | l | w | r | f | i | m | q |\n",
      "---+---+---+---+---+---+---+---+---+---+---+---+---+---+---+---+---+---+---+---+---+---+---+---+---+\n",
      " v | v | d | p | n | a | i | j | x | f | g | u | s | t | c | q | b | o | w | l | m | k | e | r | h |\n",
      "---+---+---+---+---+---+---+---+---+---+---+---+---+---+---+---+---+---+---+---+---+---+---+---+---+\n",
      " w | w | p | i | r | n | d | q | t | x | h | j | g | f | m | u | e | v | o | b | k | c | l | a | s |\n",
      "---+---+---+---+---+---+---+---+---+---+---+---+---+---+---+---+---+---+---+---+---+---+---+---+---+\n",
      " x | x | u | q | h | s | j | i | v | w | r | d | a | o | e | p | m | t | f | k | b | l | c | g | n |\n",
      "---+---+---+---+---+---+---+---+---+---+---+---+---+---+---+---+---+---+---+---+---+---+---+---+---+\n",
      "\n"
     ]
    }
   ],
   "source": [
    "print(G)"
   ]
  },
  {
   "cell_type": "code",
   "execution_count": 138,
   "metadata": {
    "collapsed": false
   },
   "outputs": [],
   "source": [
    "a=GroupElem((0,1,3,2),G)"
   ]
  },
  {
   "cell_type": "code",
   "execution_count": 143,
   "metadata": {
    "collapsed": false
   },
   "outputs": [
    {
     "data": {
      "text/plain": [
       "2"
      ]
     },
     "execution_count": 143,
     "metadata": {},
     "output_type": "execute_result"
    }
   ],
   "source": [
    "a.order()"
   ]
  },
  {
   "cell_type": "code",
   "execution_count": 139,
   "metadata": {
    "collapsed": true
   },
   "outputs": [],
   "source": [
    "b=GroupElem((1,2,0,3),G)"
   ]
  },
  {
   "cell_type": "code",
   "execution_count": 145,
   "metadata": {
    "collapsed": false
   },
   "outputs": [],
   "source": [
    "H=G.generate([a,b])"
   ]
  },
  {
   "cell_type": "code",
   "execution_count": 104,
   "metadata": {
    "collapsed": false
   },
   "outputs": [
    {
     "data": {
      "text/plain": [
       "24"
      ]
     },
     "execution_count": 104,
     "metadata": {},
     "output_type": "execute_result"
    }
   ],
   "source": [
    "len(H)"
   ]
  },
  {
   "cell_type": "code",
   "execution_count": 105,
   "metadata": {
    "collapsed": false,
    "scrolled": true
   },
   "outputs": [
    {
     "data": {
      "text/plain": [
       "True"
      ]
     },
     "execution_count": 105,
     "metadata": {},
     "output_type": "execute_result"
    }
   ],
   "source": [
    "G==H"
   ]
  },
  {
   "cell_type": "code",
   "execution_count": 3,
   "metadata": {
    "collapsed": true
   },
   "outputs": [],
   "source": [
    "p=GroupElem((0,2,1,3),G)\n",
    "q=GroupElem((2,3,1,0),G)"
   ]
  },
  {
   "cell_type": "code",
   "execution_count": 6,
   "metadata": {
    "collapsed": false
   },
   "outputs": [
    {
     "name": "stdout",
     "output_type": "stream",
     "text": [
      "(1, 3, 2, 0)\n"
     ]
    }
   ],
   "source": [
    "print(p*q)"
   ]
  },
  {
   "cell_type": "code",
   "execution_count": 141,
   "metadata": {
    "collapsed": true
   },
   "outputs": [],
   "source": [
    "C=G.generate([a])"
   ]
  },
  {
   "cell_type": "code",
   "execution_count": 107,
   "metadata": {
    "collapsed": false
   },
   "outputs": [
    {
     "data": {
      "text/plain": [
       "2"
      ]
     },
     "execution_count": 107,
     "metadata": {},
     "output_type": "execute_result"
    }
   ],
   "source": [
    "len(C)"
   ]
  },
  {
   "cell_type": "code",
   "execution_count": 113,
   "metadata": {
    "collapsed": false
   },
   "outputs": [
    {
     "name": "stdout",
     "output_type": "stream",
     "text": [
      "e: (0, 1, 2, 3)\n",
      "a: (0, 1, 3, 2)\n",
      "\n",
      "   | e | a |\n",
      "---+---+---+\n",
      " e | e | a |\n",
      "---+---+---+\n",
      " a | a | e |\n",
      "---+---+---+\n",
      "\n"
     ]
    }
   ],
   "source": [
    "print(C)"
   ]
  },
  {
   "cell_type": "code",
   "execution_count": 114,
   "metadata": {
    "collapsed": false
   },
   "outputs": [
    {
     "data": {
      "text/plain": [
       "False"
      ]
     },
     "execution_count": 114,
     "metadata": {},
     "output_type": "execute_result"
    }
   ],
   "source": [
    "C.is_normal_subgroup(G)"
   ]
  },
  {
   "cell_type": "code",
   "execution_count": 146,
   "metadata": {
    "collapsed": false,
    "scrolled": true
   },
   "outputs": [
    {
     "data": {
      "text/plain": [
       "<absalg.Group.Group instance at 0x104228b00>"
      ]
     },
     "execution_count": 146,
     "metadata": {},
     "output_type": "execute_result"
    }
   ],
   "source": [
    "C*H"
   ]
  },
  {
   "cell_type": "code",
   "execution_count": 108,
   "metadata": {
    "collapsed": false
   },
   "outputs": [
    {
     "name": "stdout",
     "output_type": "stream",
     "text": [
      "(0, 1, 3, 2)\n"
     ]
    }
   ],
   "source": [
    "print(a**-1)"
   ]
  },
  {
   "cell_type": "code",
   "execution_count": 110,
   "metadata": {
    "collapsed": false
   },
   "outputs": [
    {
     "name": "stdout",
     "output_type": "stream",
     "text": [
      "(1, 2, 0, 3)\n"
     ]
    }
   ],
   "source": [
    "print(a**2*b)"
   ]
  },
  {
   "cell_type": "code",
   "execution_count": 120,
   "metadata": {
    "collapsed": true
   },
   "outputs": [],
   "source": [
    "G=Zn(2)*Zn(2)"
   ]
  },
  {
   "cell_type": "code",
   "execution_count": 121,
   "metadata": {
    "collapsed": true
   },
   "outputs": [],
   "source": [
    "e, a, b, c = tuple(g for g in G)"
   ]
  },
  {
   "cell_type": "code",
   "execution_count": 122,
   "metadata": {
    "collapsed": false
   },
   "outputs": [
    {
     "name": "stdout",
     "output_type": "stream",
     "text": [
      "(1, 1)\n"
     ]
    }
   ],
   "source": [
    "print(a*b)"
   ]
  },
  {
   "cell_type": "code",
   "execution_count": 123,
   "metadata": {
    "collapsed": false
   },
   "outputs": [
    {
     "name": "stdout",
     "output_type": "stream",
     "text": [
      "(0, 1)\n"
     ]
    }
   ],
   "source": [
    "print(a)"
   ]
  },
  {
   "cell_type": "code",
   "execution_count": 124,
   "metadata": {
    "collapsed": false
   },
   "outputs": [
    {
     "name": "stdout",
     "output_type": "stream",
     "text": [
      "(1, 1)\n"
     ]
    }
   ],
   "source": [
    "print(a+b)"
   ]
  },
  {
   "cell_type": "code",
   "execution_count": 125,
   "metadata": {
    "collapsed": false
   },
   "outputs": [
    {
     "name": "stdout",
     "output_type": "stream",
     "text": [
      "(0, 1)\n"
     ]
    }
   ],
   "source": [
    "print(G.inverse(a))"
   ]
  },
  {
   "cell_type": "code",
   "execution_count": 126,
   "metadata": {
    "collapsed": false
   },
   "outputs": [
    {
     "name": "stdout",
     "output_type": "stream",
     "text": [
      "(0, 1)\n",
      "(0, 1)\n"
     ]
    }
   ],
   "source": [
    "print(-a) \n",
    "print(a**-1)"
   ]
  },
  {
   "cell_type": "code",
   "execution_count": 127,
   "metadata": {
    "collapsed": false
   },
   "outputs": [
    {
     "data": {
      "text/plain": [
       "2"
      ]
     },
     "execution_count": 127,
     "metadata": {},
     "output_type": "execute_result"
    }
   ],
   "source": [
    "a.order()"
   ]
  },
  {
   "cell_type": "code",
   "execution_count": 128,
   "metadata": {
    "collapsed": true
   },
   "outputs": [],
   "source": [
    "H=G.generate([a])"
   ]
  },
  {
   "cell_type": "code",
   "execution_count": 129,
   "metadata": {
    "collapsed": false
   },
   "outputs": [
    {
     "data": {
      "text/plain": [
       "True"
      ]
     },
     "execution_count": 129,
     "metadata": {},
     "output_type": "execute_result"
    }
   ],
   "source": [
    "H.is_normal_subgroup(G)"
   ]
  },
  {
   "cell_type": "code",
   "execution_count": 133,
   "metadata": {
    "collapsed": false
   },
   "outputs": [],
   "source": [
    "Q=G/H"
   ]
  },
  {
   "cell_type": "code",
   "execution_count": 134,
   "metadata": {
    "collapsed": false
   },
   "outputs": [
    {
     "data": {
      "text/plain": [
       "True"
      ]
     },
     "execution_count": 134,
     "metadata": {},
     "output_type": "execute_result"
    }
   ],
   "source": [
    "Q.is_isomorphic(H)"
   ]
  },
  {
   "cell_type": "code",
   "execution_count": 136,
   "metadata": {
    "collapsed": false
   },
   "outputs": [
    {
     "data": {
      "text/plain": [
       "True"
      ]
     },
     "execution_count": 136,
     "metadata": {},
     "output_type": "execute_result"
    }
   ],
   "source": [
    "len(Q)*len(H)==len(G)"
   ]
  },
  {
   "cell_type": "markdown",
   "metadata": {},
   "source": [
    "## Lo que hecho en falta\n",
    "- una función signo\n",
    "- órbitas\n",
    "- una mejor forma de mostrar los elementos\n",
    "- suma (producto), intersección de subgrupos\n",
    "- los productos cartesianos son con `*`\n",
    "- clases de conjugación\n",
    "- centralizador y centro\n",
    "- p-subgrupos de Sylow\n",
    "- descomposición de grupos abelianos cíclica\n"
   ]
  },
  {
   "cell_type": "code",
   "execution_count": null,
   "metadata": {
    "collapsed": true
   },
   "outputs": [],
   "source": []
  }
 ],
 "metadata": {
  "kernelspec": {
   "display_name": "Python 2",
   "language": "python",
   "name": "python2"
  },
  "language_info": {
   "codemirror_mode": {
    "name": "ipython",
    "version": 2
   },
   "file_extension": ".py",
   "mimetype": "text/x-python",
   "name": "python",
   "nbconvert_exporter": "python",
   "pygments_lexer": "ipython2",
   "version": "2.7.10"
  }
 },
 "nbformat": 4,
 "nbformat_minor": 0
}
